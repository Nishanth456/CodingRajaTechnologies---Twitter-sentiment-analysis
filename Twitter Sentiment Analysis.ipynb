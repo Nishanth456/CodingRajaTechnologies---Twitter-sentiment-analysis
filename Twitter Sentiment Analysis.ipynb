{
 "cells": [
  {
   "cell_type": "code",
   "execution_count": 1,
   "id": "ac42aac4",
   "metadata": {},
   "outputs": [],
   "source": [
    "# Importing necessary modules\n",
    "import pandas as pd\n",
    "from sklearn.model_selection import train_test_split\n",
    "from sklearn.feature_extraction.text import TfidfVectorizer\n",
    "from sklearn.naive_bayes import MultinomialNB\n",
    "from sklearn.metrics import accuracy_score, classification_report, confusion_matrix\n",
    "from nltk.corpus import stopwords\n",
    "from nltk.tokenize import word_tokenize\n",
    "from nltk.stem import PorterStemmer\n",
    "import re"
   ]
  },
  {
   "cell_type": "code",
   "execution_count": 2,
   "id": "61fedc4d",
   "metadata": {},
   "outputs": [
    {
     "name": "stderr",
     "output_type": "stream",
     "text": [
      "[nltk_data] Downloading package stopwords to\n",
      "[nltk_data]     C:\\Users\\nisha\\AppData\\Roaming\\nltk_data...\n",
      "[nltk_data]   Package stopwords is already up-to-date!\n",
      "[nltk_data] Downloading package punkt to\n",
      "[nltk_data]     C:\\Users\\nisha\\AppData\\Roaming\\nltk_data...\n",
      "[nltk_data]   Package punkt is already up-to-date!\n"
     ]
    },
    {
     "data": {
      "text/plain": [
       "True"
      ]
     },
     "execution_count": 2,
     "metadata": {},
     "output_type": "execute_result"
    }
   ],
   "source": [
    "# Download NLTK resources\n",
    "import nltk\n",
    "nltk.download('stopwords')\n",
    "nltk.download('punkt')"
   ]
  },
  {
   "cell_type": "code",
   "execution_count": 3,
   "id": "a208fb3e",
   "metadata": {},
   "outputs": [],
   "source": [
    "# Load the training dataset\n",
    "train = \"C:/Users/nisha/Projects/Twitter Sentiment Analysis/twitter_training.csv\"\n",
    "train_df = pd.read_csv(train)"
   ]
  },
  {
   "cell_type": "code",
   "execution_count": 4,
   "id": "28e00a90",
   "metadata": {},
   "outputs": [],
   "source": [
    "# Load the validation dataset\n",
    "validation = \"C:/Users/nisha/Projects/Twitter Sentiment Analysis/twitter_validation.csv\"\n",
    "validation_df = pd.read_csv(validation)"
   ]
  },
  {
   "cell_type": "code",
   "execution_count": 5,
   "id": "66044c33",
   "metadata": {},
   "outputs": [
    {
     "data": {
      "text/html": [
       "<div>\n",
       "<style scoped>\n",
       "    .dataframe tbody tr th:only-of-type {\n",
       "        vertical-align: middle;\n",
       "    }\n",
       "\n",
       "    .dataframe tbody tr th {\n",
       "        vertical-align: top;\n",
       "    }\n",
       "\n",
       "    .dataframe thead th {\n",
       "        text-align: right;\n",
       "    }\n",
       "</style>\n",
       "<table border=\"1\" class=\"dataframe\">\n",
       "  <thead>\n",
       "    <tr style=\"text-align: right;\">\n",
       "      <th></th>\n",
       "      <th>id</th>\n",
       "      <th>information</th>\n",
       "      <th>type</th>\n",
       "      <th>text</th>\n",
       "    </tr>\n",
       "  </thead>\n",
       "  <tbody>\n",
       "    <tr>\n",
       "      <th>0</th>\n",
       "      <td>2401</td>\n",
       "      <td>Borderlands</td>\n",
       "      <td>Positive</td>\n",
       "      <td>I am coming to the borders and I will kill you...</td>\n",
       "    </tr>\n",
       "    <tr>\n",
       "      <th>1</th>\n",
       "      <td>2401</td>\n",
       "      <td>Borderlands</td>\n",
       "      <td>Positive</td>\n",
       "      <td>im getting on borderlands and i will kill you ...</td>\n",
       "    </tr>\n",
       "    <tr>\n",
       "      <th>2</th>\n",
       "      <td>2401</td>\n",
       "      <td>Borderlands</td>\n",
       "      <td>Positive</td>\n",
       "      <td>im coming on borderlands and i will murder you...</td>\n",
       "    </tr>\n",
       "    <tr>\n",
       "      <th>3</th>\n",
       "      <td>2401</td>\n",
       "      <td>Borderlands</td>\n",
       "      <td>Positive</td>\n",
       "      <td>im getting on borderlands 2 and i will murder ...</td>\n",
       "    </tr>\n",
       "    <tr>\n",
       "      <th>4</th>\n",
       "      <td>2401</td>\n",
       "      <td>Borderlands</td>\n",
       "      <td>Positive</td>\n",
       "      <td>im getting into borderlands and i can murder y...</td>\n",
       "    </tr>\n",
       "  </tbody>\n",
       "</table>\n",
       "</div>"
      ],
      "text/plain": [
       "     id  information      type  \\\n",
       "0  2401  Borderlands  Positive   \n",
       "1  2401  Borderlands  Positive   \n",
       "2  2401  Borderlands  Positive   \n",
       "3  2401  Borderlands  Positive   \n",
       "4  2401  Borderlands  Positive   \n",
       "\n",
       "                                                text  \n",
       "0  I am coming to the borders and I will kill you...  \n",
       "1  im getting on borderlands and i will kill you ...  \n",
       "2  im coming on borderlands and i will murder you...  \n",
       "3  im getting on borderlands 2 and i will murder ...  \n",
       "4  im getting into borderlands and i can murder y...  "
      ]
     },
     "execution_count": 5,
     "metadata": {},
     "output_type": "execute_result"
    }
   ],
   "source": [
    "train_df.columns=['id','information','type','text']\n",
    "train_df.head()"
   ]
  },
  {
   "cell_type": "code",
   "execution_count": 6,
   "id": "113615ff",
   "metadata": {},
   "outputs": [
    {
     "data": {
      "text/html": [
       "<div>\n",
       "<style scoped>\n",
       "    .dataframe tbody tr th:only-of-type {\n",
       "        vertical-align: middle;\n",
       "    }\n",
       "\n",
       "    .dataframe tbody tr th {\n",
       "        vertical-align: top;\n",
       "    }\n",
       "\n",
       "    .dataframe thead th {\n",
       "        text-align: right;\n",
       "    }\n",
       "</style>\n",
       "<table border=\"1\" class=\"dataframe\">\n",
       "  <thead>\n",
       "    <tr style=\"text-align: right;\">\n",
       "      <th></th>\n",
       "      <th>id</th>\n",
       "      <th>information</th>\n",
       "      <th>type</th>\n",
       "      <th>text</th>\n",
       "    </tr>\n",
       "  </thead>\n",
       "  <tbody>\n",
       "    <tr>\n",
       "      <th>0</th>\n",
       "      <td>352</td>\n",
       "      <td>Amazon</td>\n",
       "      <td>Neutral</td>\n",
       "      <td>BBC News - Amazon boss Jeff Bezos rejects clai...</td>\n",
       "    </tr>\n",
       "    <tr>\n",
       "      <th>1</th>\n",
       "      <td>8312</td>\n",
       "      <td>Microsoft</td>\n",
       "      <td>Negative</td>\n",
       "      <td>@Microsoft Why do I pay for WORD when it funct...</td>\n",
       "    </tr>\n",
       "    <tr>\n",
       "      <th>2</th>\n",
       "      <td>4371</td>\n",
       "      <td>CS-GO</td>\n",
       "      <td>Negative</td>\n",
       "      <td>CSGO matchmaking is so full of closet hacking,...</td>\n",
       "    </tr>\n",
       "    <tr>\n",
       "      <th>3</th>\n",
       "      <td>4433</td>\n",
       "      <td>Google</td>\n",
       "      <td>Neutral</td>\n",
       "      <td>Now the President is slapping Americans in the...</td>\n",
       "    </tr>\n",
       "    <tr>\n",
       "      <th>4</th>\n",
       "      <td>6273</td>\n",
       "      <td>FIFA</td>\n",
       "      <td>Negative</td>\n",
       "      <td>Hi @EAHelp I’ve had Madeleine McCann in my cel...</td>\n",
       "    </tr>\n",
       "  </tbody>\n",
       "</table>\n",
       "</div>"
      ],
      "text/plain": [
       "     id information      type  \\\n",
       "0   352      Amazon   Neutral   \n",
       "1  8312   Microsoft  Negative   \n",
       "2  4371       CS-GO  Negative   \n",
       "3  4433      Google   Neutral   \n",
       "4  6273        FIFA  Negative   \n",
       "\n",
       "                                                text  \n",
       "0  BBC News - Amazon boss Jeff Bezos rejects clai...  \n",
       "1  @Microsoft Why do I pay for WORD when it funct...  \n",
       "2  CSGO matchmaking is so full of closet hacking,...  \n",
       "3  Now the President is slapping Americans in the...  \n",
       "4  Hi @EAHelp I’ve had Madeleine McCann in my cel...  "
      ]
     },
     "execution_count": 6,
     "metadata": {},
     "output_type": "execute_result"
    }
   ],
   "source": [
    "validation_df.columns=['id','information','type','text']\n",
    "validation_df.head()"
   ]
  },
  {
   "cell_type": "code",
   "execution_count": 7,
   "id": "5c7c5b67",
   "metadata": {},
   "outputs": [
    {
     "data": {
      "text/plain": [
       "(74681, 4)"
      ]
     },
     "execution_count": 7,
     "metadata": {},
     "output_type": "execute_result"
    }
   ],
   "source": [
    "train_df.shape"
   ]
  },
  {
   "cell_type": "code",
   "execution_count": 8,
   "id": "27725f92",
   "metadata": {},
   "outputs": [
    {
     "data": {
      "text/plain": [
       "(999, 4)"
      ]
     },
     "execution_count": 8,
     "metadata": {},
     "output_type": "execute_result"
    }
   ],
   "source": [
    "validation_df.shape"
   ]
  },
  {
   "cell_type": "code",
   "execution_count": 9,
   "id": "b93090a9",
   "metadata": {},
   "outputs": [
    {
     "name": "stdout",
     "output_type": "stream",
     "text": [
      "Missing values in Training Dataset:\n",
      "id               0\n",
      "information      0\n",
      "type             0\n",
      "text           686\n",
      "dtype: int64\n"
     ]
    }
   ],
   "source": [
    "# Check for missing values in the training dataset\n",
    "print(\"Missing values in Training Dataset:\")\n",
    "print(train_df.isnull().sum())"
   ]
  },
  {
   "cell_type": "code",
   "execution_count": 10,
   "id": "6d642958",
   "metadata": {},
   "outputs": [
    {
     "name": "stdout",
     "output_type": "stream",
     "text": [
      "Missing values in Validation Dataset:\n",
      "id             0\n",
      "information    0\n",
      "type           0\n",
      "text           0\n",
      "dtype: int64\n"
     ]
    }
   ],
   "source": [
    "# Check for missing values in the validation dataset\n",
    "print(\"Missing values in Validation Dataset:\")\n",
    "print(validation_df.isnull().sum())"
   ]
  },
  {
   "cell_type": "code",
   "execution_count": 11,
   "id": "530bc82c",
   "metadata": {},
   "outputs": [],
   "source": [
    "train_df = train_df.dropna(subset=['text'])"
   ]
  },
  {
   "cell_type": "code",
   "execution_count": 12,
   "id": "53499e5d",
   "metadata": {},
   "outputs": [
    {
     "name": "stdout",
     "output_type": "stream",
     "text": [
      "Missing values in Training Dataset:\n",
      "id             0\n",
      "information    0\n",
      "type           0\n",
      "text           0\n",
      "dtype: int64\n"
     ]
    }
   ],
   "source": [
    "# Check for missing values in the training dataset\n",
    "print(\"Missing values in Training Dataset:\")\n",
    "print(train_df.isnull().sum())"
   ]
  },
  {
   "cell_type": "code",
   "execution_count": 13,
   "id": "8bd5fe65",
   "metadata": {},
   "outputs": [
    {
     "data": {
      "text/plain": [
       "(73995, 4)"
      ]
     },
     "execution_count": 13,
     "metadata": {},
     "output_type": "execute_result"
    }
   ],
   "source": [
    "train_df.shape"
   ]
  },
  {
   "cell_type": "code",
   "execution_count": 14,
   "id": "d6e51e80",
   "metadata": {},
   "outputs": [
    {
     "name": "stdout",
     "output_type": "stream",
     "text": [
      "<class 'pandas.core.frame.DataFrame'>\n",
      "Int64Index: 73995 entries, 0 to 74680\n",
      "Data columns (total 4 columns):\n",
      " #   Column       Non-Null Count  Dtype \n",
      "---  ------       --------------  ----- \n",
      " 0   id           73995 non-null  int64 \n",
      " 1   information  73995 non-null  object\n",
      " 2   type         73995 non-null  object\n",
      " 3   text         73995 non-null  object\n",
      "dtypes: int64(1), object(3)\n",
      "memory usage: 2.8+ MB\n"
     ]
    }
   ],
   "source": [
    "train_df.info()"
   ]
  },
  {
   "cell_type": "code",
   "execution_count": 15,
   "id": "f4f13294",
   "metadata": {},
   "outputs": [
    {
     "data": {
      "text/plain": [
       "Negative      22358\n",
       "Positive      20654\n",
       "Neutral       18108\n",
       "Irrelevant    12875\n",
       "Name: type, dtype: int64"
      ]
     },
     "execution_count": 15,
     "metadata": {},
     "output_type": "execute_result"
    }
   ],
   "source": [
    "# Check the distribution of Emotion\n",
    "train_df['type'].value_counts()"
   ]
  },
  {
   "cell_type": "code",
   "execution_count": 16,
   "id": "9549a92a",
   "metadata": {},
   "outputs": [
    {
     "data": {
      "image/png": "[encoded data removed]",
      "text/plain": [
       "<Figure size 800x800 with 1 Axes>"
      ]
     },
     "metadata": {},
     "output_type": "display_data"
    }
   ],
   "source": [
    "import matplotlib.pyplot as plt\n",
    "\n",
    "# Check the distribution of the 'type' column\n",
    "type_counts = train_df['type'].value_counts()\n",
    "\n",
    "# Define colors for each emotion type\n",
    "colors = ['skyblue', 'lightcoral', 'lightgreen', 'orange']\n",
    "\n",
    "# Plotting a pie chart\n",
    "plt.figure(figsize=(8, 8))\n",
    "plt.pie(type_counts, labels=type_counts.index, autopct='%1.1f%%', startangle=90, colors=colors)\n",
    "plt.title('Distribution of Emotion Types')\n",
    "plt.show()"
   ]
  },
  {
   "cell_type": "code",
   "execution_count": 17,
   "id": "f96f3ffb",
   "metadata": {},
   "outputs": [
    {
     "name": "stderr",
     "output_type": "stream",
     "text": [
      "[nltk_data] Downloading package stopwords to\n",
      "[nltk_data]     C:\\Users\\nisha\\AppData\\Roaming\\nltk_data...\n",
      "[nltk_data]   Package stopwords is already up-to-date!\n",
      "[nltk_data] Downloading package punkt to\n",
      "[nltk_data]     C:\\Users\\nisha\\AppData\\Roaming\\nltk_data...\n",
      "[nltk_data]   Package punkt is already up-to-date!\n"
     ]
    }
   ],
   "source": [
    "from nltk.corpus import stopwords\n",
    "from nltk.tokenize import word_tokenize\n",
    "import re\n",
    "\n",
    "# Download NLTK resources if not already downloaded\n",
    "import nltk\n",
    "nltk.download('stopwords')\n",
    "nltk.download('punkt')\n",
    "\n",
    "# Function for text preprocessing\n",
    "def preprocess_text(text):\n",
    "    # Convert to lowercase\n",
    "    text = text.lower()\n",
    "    # Remove special characters and links\n",
    "    text = re.sub(r'http\\S+', '', text)\n",
    "    text = re.sub(r'[^a-zA-Z\\s]', '', text)\n",
    "    # Tokenization and removing stopwords\n",
    "    stop_words = set(stopwords.words('english'))\n",
    "    words = word_tokenize(text)\n",
    "    words = [word for word in words if word not in stop_words]\n",
    "    return ' '.join(words)"
   ]
  },
  {
   "cell_type": "code",
   "execution_count": 18,
   "id": "554b294b",
   "metadata": {},
   "outputs": [
    {
     "data": {
      "text/html": [
       "<div>\n",
       "<style scoped>\n",
       "    .dataframe tbody tr th:only-of-type {\n",
       "        vertical-align: middle;\n",
       "    }\n",
       "\n",
       "    .dataframe tbody tr th {\n",
       "        vertical-align: top;\n",
       "    }\n",
       "\n",
       "    .dataframe thead th {\n",
       "        text-align: right;\n",
       "    }\n",
       "</style>\n",
       "<table border=\"1\" class=\"dataframe\">\n",
       "  <thead>\n",
       "    <tr style=\"text-align: right;\">\n",
       "      <th></th>\n",
       "      <th>id</th>\n",
       "      <th>information</th>\n",
       "      <th>type</th>\n",
       "      <th>text</th>\n",
       "      <th>preprocessed_text</th>\n",
       "    </tr>\n",
       "  </thead>\n",
       "  <tbody>\n",
       "    <tr>\n",
       "      <th>0</th>\n",
       "      <td>2401</td>\n",
       "      <td>Borderlands</td>\n",
       "      <td>Positive</td>\n",
       "      <td>I am coming to the borders and I will kill you...</td>\n",
       "      <td>coming borders kill</td>\n",
       "    </tr>\n",
       "    <tr>\n",
       "      <th>1</th>\n",
       "      <td>2401</td>\n",
       "      <td>Borderlands</td>\n",
       "      <td>Positive</td>\n",
       "      <td>im getting on borderlands and i will kill you ...</td>\n",
       "      <td>im getting borderlands kill</td>\n",
       "    </tr>\n",
       "    <tr>\n",
       "      <th>2</th>\n",
       "      <td>2401</td>\n",
       "      <td>Borderlands</td>\n",
       "      <td>Positive</td>\n",
       "      <td>im coming on borderlands and i will murder you...</td>\n",
       "      <td>im coming borderlands murder</td>\n",
       "    </tr>\n",
       "    <tr>\n",
       "      <th>3</th>\n",
       "      <td>2401</td>\n",
       "      <td>Borderlands</td>\n",
       "      <td>Positive</td>\n",
       "      <td>im getting on borderlands 2 and i will murder ...</td>\n",
       "      <td>im getting borderlands murder</td>\n",
       "    </tr>\n",
       "    <tr>\n",
       "      <th>4</th>\n",
       "      <td>2401</td>\n",
       "      <td>Borderlands</td>\n",
       "      <td>Positive</td>\n",
       "      <td>im getting into borderlands and i can murder y...</td>\n",
       "      <td>im getting borderlands murder</td>\n",
       "    </tr>\n",
       "    <tr>\n",
       "      <th>...</th>\n",
       "      <td>...</td>\n",
       "      <td>...</td>\n",
       "      <td>...</td>\n",
       "      <td>...</td>\n",
       "      <td>...</td>\n",
       "    </tr>\n",
       "    <tr>\n",
       "      <th>74676</th>\n",
       "      <td>9200</td>\n",
       "      <td>Nvidia</td>\n",
       "      <td>Positive</td>\n",
       "      <td>Just realized that the Windows partition of my...</td>\n",
       "      <td>realized windows partition mac like years behi...</td>\n",
       "    </tr>\n",
       "    <tr>\n",
       "      <th>74677</th>\n",
       "      <td>9200</td>\n",
       "      <td>Nvidia</td>\n",
       "      <td>Positive</td>\n",
       "      <td>Just realized that my Mac window partition is ...</td>\n",
       "      <td>realized mac window partition years behind nvi...</td>\n",
       "    </tr>\n",
       "    <tr>\n",
       "      <th>74678</th>\n",
       "      <td>9200</td>\n",
       "      <td>Nvidia</td>\n",
       "      <td>Positive</td>\n",
       "      <td>Just realized the windows partition of my Mac ...</td>\n",
       "      <td>realized windows partition mac years behind nv...</td>\n",
       "    </tr>\n",
       "    <tr>\n",
       "      <th>74679</th>\n",
       "      <td>9200</td>\n",
       "      <td>Nvidia</td>\n",
       "      <td>Positive</td>\n",
       "      <td>Just realized between the windows partition of...</td>\n",
       "      <td>realized windows partition mac like years behi...</td>\n",
       "    </tr>\n",
       "    <tr>\n",
       "      <th>74680</th>\n",
       "      <td>9200</td>\n",
       "      <td>Nvidia</td>\n",
       "      <td>Positive</td>\n",
       "      <td>Just like the windows partition of my Mac is l...</td>\n",
       "      <td>like windows partition mac like years behind d...</td>\n",
       "    </tr>\n",
       "  </tbody>\n",
       "</table>\n",
       "<p>73995 rows × 5 columns</p>\n",
       "</div>"
      ],
      "text/plain": [
       "         id  information      type  \\\n",
       "0      2401  Borderlands  Positive   \n",
       "1      2401  Borderlands  Positive   \n",
       "2      2401  Borderlands  Positive   \n",
       "3      2401  Borderlands  Positive   \n",
       "4      2401  Borderlands  Positive   \n",
       "...     ...          ...       ...   \n",
       "74676  9200       Nvidia  Positive   \n",
       "74677  9200       Nvidia  Positive   \n",
       "74678  9200       Nvidia  Positive   \n",
       "74679  9200       Nvidia  Positive   \n",
       "74680  9200       Nvidia  Positive   \n",
       "\n",
       "                                                    text  \\\n",
       "0      I am coming to the borders and I will kill you...   \n",
       "1      im getting on borderlands and i will kill you ...   \n",
       "2      im coming on borderlands and i will murder you...   \n",
       "3      im getting on borderlands 2 and i will murder ...   \n",
       "4      im getting into borderlands and i can murder y...   \n",
       "...                                                  ...   \n",
       "74676  Just realized that the Windows partition of my...   \n",
       "74677  Just realized that my Mac window partition is ...   \n",
       "74678  Just realized the windows partition of my Mac ...   \n",
       "74679  Just realized between the windows partition of...   \n",
       "74680  Just like the windows partition of my Mac is l...   \n",
       "\n",
       "                                       preprocessed_text  \n",
       "0                                    coming borders kill  \n",
       "1                            im getting borderlands kill  \n",
       "2                           im coming borderlands murder  \n",
       "3                          im getting borderlands murder  \n",
       "4                          im getting borderlands murder  \n",
       "...                                                  ...  \n",
       "74676  realized windows partition mac like years behi...  \n",
       "74677  realized mac window partition years behind nvi...  \n",
       "74678  realized windows partition mac years behind nv...  \n",
       "74679  realized windows partition mac like years behi...  \n",
       "74680  like windows partition mac like years behind d...  \n",
       "\n",
       "[73995 rows x 5 columns]"
      ]
     },
     "execution_count": 18,
     "metadata": {},
     "output_type": "execute_result"
    }
   ],
   "source": [
    "# Apply the preprocess_text function to the 'text' column\n",
    "train_df['preprocessed_text'] = train_df['text'].apply(preprocess_text)\n",
    "train_df"
   ]
  },
  {
   "cell_type": "code",
   "execution_count": 19,
   "id": "bd66b777",
   "metadata": {},
   "outputs": [
    {
     "data": {
      "text/html": [
       "<div>\n",
       "<style scoped>\n",
       "    .dataframe tbody tr th:only-of-type {\n",
       "        vertical-align: middle;\n",
       "    }\n",
       "\n",
       "    .dataframe tbody tr th {\n",
       "        vertical-align: top;\n",
       "    }\n",
       "\n",
       "    .dataframe thead th {\n",
       "        text-align: right;\n",
       "    }\n",
       "</style>\n",
       "<table border=\"1\" class=\"dataframe\">\n",
       "  <thead>\n",
       "    <tr style=\"text-align: right;\">\n",
       "      <th></th>\n",
       "      <th>id</th>\n",
       "      <th>information</th>\n",
       "      <th>type</th>\n",
       "      <th>text</th>\n",
       "      <th>preprocessed_text</th>\n",
       "    </tr>\n",
       "  </thead>\n",
       "  <tbody>\n",
       "    <tr>\n",
       "      <th>0</th>\n",
       "      <td>352</td>\n",
       "      <td>Amazon</td>\n",
       "      <td>Neutral</td>\n",
       "      <td>BBC News - Amazon boss Jeff Bezos rejects clai...</td>\n",
       "      <td>bbc news amazon boss jeff bezos rejects claims...</td>\n",
       "    </tr>\n",
       "    <tr>\n",
       "      <th>1</th>\n",
       "      <td>8312</td>\n",
       "      <td>Microsoft</td>\n",
       "      <td>Negative</td>\n",
       "      <td>@Microsoft Why do I pay for WORD when it funct...</td>\n",
       "      <td>microsoft pay word functions poorly samsungus ...</td>\n",
       "    </tr>\n",
       "    <tr>\n",
       "      <th>2</th>\n",
       "      <td>4371</td>\n",
       "      <td>CS-GO</td>\n",
       "      <td>Negative</td>\n",
       "      <td>CSGO matchmaking is so full of closet hacking,...</td>\n",
       "      <td>csgo matchmaking full closet hacking truly awf...</td>\n",
       "    </tr>\n",
       "    <tr>\n",
       "      <th>3</th>\n",
       "      <td>4433</td>\n",
       "      <td>Google</td>\n",
       "      <td>Neutral</td>\n",
       "      <td>Now the President is slapping Americans in the...</td>\n",
       "      <td>president slapping americans face really commi...</td>\n",
       "    </tr>\n",
       "    <tr>\n",
       "      <th>4</th>\n",
       "      <td>6273</td>\n",
       "      <td>FIFA</td>\n",
       "      <td>Negative</td>\n",
       "      <td>Hi @EAHelp I’ve had Madeleine McCann in my cel...</td>\n",
       "      <td>hi eahelp ive madeleine mccann cellar past yea...</td>\n",
       "    </tr>\n",
       "    <tr>\n",
       "      <th>...</th>\n",
       "      <td>...</td>\n",
       "      <td>...</td>\n",
       "      <td>...</td>\n",
       "      <td>...</td>\n",
       "      <td>...</td>\n",
       "    </tr>\n",
       "    <tr>\n",
       "      <th>994</th>\n",
       "      <td>4891</td>\n",
       "      <td>GrandTheftAuto(GTA)</td>\n",
       "      <td>Irrelevant</td>\n",
       "      <td>⭐️ Toronto is the arts and culture capital of ...</td>\n",
       "      <td>toronto arts culture capital canada wonder wan...</td>\n",
       "    </tr>\n",
       "    <tr>\n",
       "      <th>995</th>\n",
       "      <td>4359</td>\n",
       "      <td>CS-GO</td>\n",
       "      <td>Irrelevant</td>\n",
       "      <td>tHIS IS ACTUALLY A GOOD MOVE TOT BRING MORE VI...</td>\n",
       "      <td>actually good move tot bring viewers one peopl...</td>\n",
       "    </tr>\n",
       "    <tr>\n",
       "      <th>996</th>\n",
       "      <td>2652</td>\n",
       "      <td>Borderlands</td>\n",
       "      <td>Positive</td>\n",
       "      <td>Today sucked so it’s time to drink wine n play...</td>\n",
       "      <td>today sucked time drink wine n play borderland...</td>\n",
       "    </tr>\n",
       "    <tr>\n",
       "      <th>997</th>\n",
       "      <td>8069</td>\n",
       "      <td>Microsoft</td>\n",
       "      <td>Positive</td>\n",
       "      <td>Bought a fraction of Microsoft today. Small wins.</td>\n",
       "      <td>bought fraction microsoft today small wins</td>\n",
       "    </tr>\n",
       "    <tr>\n",
       "      <th>998</th>\n",
       "      <td>6960</td>\n",
       "      <td>johnson&amp;johnson</td>\n",
       "      <td>Neutral</td>\n",
       "      <td>Johnson &amp; Johnson to stop selling talc baby po...</td>\n",
       "      <td>johnson johnson stop selling talc baby powder ...</td>\n",
       "    </tr>\n",
       "  </tbody>\n",
       "</table>\n",
       "<p>999 rows × 5 columns</p>\n",
       "</div>"
      ],
      "text/plain": [
       "       id          information        type  \\\n",
       "0     352               Amazon     Neutral   \n",
       "1    8312            Microsoft    Negative   \n",
       "2    4371                CS-GO    Negative   \n",
       "3    4433               Google     Neutral   \n",
       "4    6273                 FIFA    Negative   \n",
       "..    ...                  ...         ...   \n",
       "994  4891  GrandTheftAuto(GTA)  Irrelevant   \n",
       "995  4359                CS-GO  Irrelevant   \n",
       "996  2652          Borderlands    Positive   \n",
       "997  8069            Microsoft    Positive   \n",
       "998  6960      johnson&johnson     Neutral   \n",
       "\n",
       "                                                  text  \\\n",
       "0    BBC News - Amazon boss Jeff Bezos rejects clai...   \n",
       "1    @Microsoft Why do I pay for WORD when it funct...   \n",
       "2    CSGO matchmaking is so full of closet hacking,...   \n",
       "3    Now the President is slapping Americans in the...   \n",
       "4    Hi @EAHelp I’ve had Madeleine McCann in my cel...   \n",
       "..                                                 ...   \n",
       "994  ⭐️ Toronto is the arts and culture capital of ...   \n",
       "995  tHIS IS ACTUALLY A GOOD MOVE TOT BRING MORE VI...   \n",
       "996  Today sucked so it’s time to drink wine n play...   \n",
       "997  Bought a fraction of Microsoft today. Small wins.   \n",
       "998  Johnson & Johnson to stop selling talc baby po...   \n",
       "\n",
       "                                     preprocessed_text  \n",
       "0    bbc news amazon boss jeff bezos rejects claims...  \n",
       "1    microsoft pay word functions poorly samsungus ...  \n",
       "2    csgo matchmaking full closet hacking truly awf...  \n",
       "3    president slapping americans face really commi...  \n",
       "4    hi eahelp ive madeleine mccann cellar past yea...  \n",
       "..                                                 ...  \n",
       "994  toronto arts culture capital canada wonder wan...  \n",
       "995  actually good move tot bring viewers one peopl...  \n",
       "996  today sucked time drink wine n play borderland...  \n",
       "997         bought fraction microsoft today small wins  \n",
       "998  johnson johnson stop selling talc baby powder ...  \n",
       "\n",
       "[999 rows x 5 columns]"
      ]
     },
     "execution_count": 19,
     "metadata": {},
     "output_type": "execute_result"
    }
   ],
   "source": [
    "# Apply the preprocess_text function to the 'text' column\n",
    "validation_df['preprocessed_text'] = validation_df['text'].apply(preprocess_text)\n",
    "validation_df"
   ]
  },
  {
   "cell_type": "code",
   "execution_count": 20,
   "id": "b7fecc0b",
   "metadata": {
    "scrolled": true
   },
   "outputs": [
    {
     "name": "stdout",
     "output_type": "stream",
     "text": [
      "TF-IDF Training Features Shape: (73995, 5000)\n",
      "TF-IDF Validation Features Shape: (999, 5000)\n"
     ]
    }
   ],
   "source": [
    "from sklearn.feature_extraction.text import TfidfVectorizer\n",
    "\n",
    "# Initialize the TF-IDF vectorizer\n",
    "tfidf_vectorizer = TfidfVectorizer(max_features=5000)  # You can adjust the 'max_features' parameter based on your dataset\n",
    "\n",
    "# Fit and transform the training data\n",
    "tfidf_train_features = tfidf_vectorizer.fit_transform(train_df['preprocessed_text'])\n",
    "\n",
    "# Transform the validation data using the same vectorizer\n",
    "tfidf_validation_features = tfidf_vectorizer.transform(validation_df['preprocessed_text'])\n",
    "\n",
    "# Display the shape of the TF-IDF features\n",
    "print(f\"TF-IDF Training Features Shape: {tfidf_train_features.shape}\")\n",
    "print(f\"TF-IDF Validation Features Shape: {tfidf_validation_features.shape}\")\n"
   ]
  },
  {
   "cell_type": "code",
   "execution_count": 21,
   "id": "f3d4765b",
   "metadata": {},
   "outputs": [
    {
     "data": {
      "text/plain": [
       "['vectorizer.pkl']"
      ]
     },
     "execution_count": 21,
     "metadata": {},
     "output_type": "execute_result"
    }
   ],
   "source": [
    "import joblib\n",
    "# Save the TF-IDF vectorizer\n",
    "joblib.dump(tfidf_vectorizer, 'vectorizer.pkl')"
   ]
  },
  {
   "cell_type": "code",
   "execution_count": 22,
   "id": "8f16cf25",
   "metadata": {},
   "outputs": [
    {
     "name": "stdout",
     "output_type": "stream",
     "text": [
      "Requirement already satisfied: xgboost in c:\\users\\nisha\\anaconda3\\lib\\site-packages (2.0.1)\n",
      "Requirement already satisfied: numpy in c:\\users\\nisha\\anaconda3\\lib\\site-packages (from xgboost) (1.24.3)\n",
      "Requirement already satisfied: scipy in c:\\users\\nisha\\anaconda3\\lib\\site-packages (from xgboost) (1.10.1)\n",
      "Note: you may need to restart the kernel to use updated packages.\n"
     ]
    }
   ],
   "source": [
    "pip install xgboost"
   ]
  },
  {
   "cell_type": "code",
   "execution_count": 23,
   "id": "0640e794",
   "metadata": {},
   "outputs": [],
   "source": [
    "from sklearn.preprocessing import LabelEncoder\n",
    "\n",
    "# Initialize the LabelEncoder\n",
    "label_encoder = LabelEncoder()\n",
    "\n",
    "# Encode the class labels in both training and validation datasets\n",
    "train_labels_encoded = label_encoder.fit_transform(train_df['type'])\n",
    "validation_labels_encoded = label_encoder.transform(validation_df['type'])"
   ]
  },
  {
   "cell_type": "code",
   "execution_count": 24,
   "id": "0f0587af",
   "metadata": {},
   "outputs": [],
   "source": [
    "import xgboost as xgb\n",
    "from sklearn.metrics import accuracy_score, classification_report, confusion_matrix\n",
    "\n",
    "# Initialize the XGBoost classifier\n",
    "xgb_classifier = xgb.XGBClassifier()\n",
    "\n",
    "# Train the classifier on the TF-IDF training features and encoded labels\n",
    "xgb_classifier.fit(tfidf_train_features, train_labels_encoded)\n",
    "\n",
    "# Predict the encoded labels for the TF-IDF validation features\n",
    "validation_predictions_xgb_encoded = xgb_classifier.predict(tfidf_validation_features)\n",
    "\n",
    "# Decode the predicted labels back to the original class labels\n",
    "validation_predictions_xgb = label_encoder.inverse_transform(validation_predictions_xgb_encoded)\n"
   ]
  },
  {
   "cell_type": "code",
   "execution_count": 25,
   "id": "0ef40499",
   "metadata": {},
   "outputs": [
    {
     "name": "stderr",
     "output_type": "stream",
     "text": [
      "C:\\Users\\nisha\\anaconda3\\Lib\\site-packages\\xgboost\\core.py:160: UserWarning: [13:29:16] WARNING: C:\\buildkite-agent\\builds\\buildkite-windows-cpu-autoscaling-group-i-07f6e447eee219473-1\\xgboost\\xgboost-ci-windows\\src\\c_api\\c_api.cc:1240: Saving into deprecated binary model format, please consider using `json` or `ubj`. Model format will default to JSON in XGBoost 2.2 if not specified.\n",
      "  warnings.warn(smsg, UserWarning)\n"
     ]
    }
   ],
   "source": [
    "# Save the XGBoost model\n",
    "xgb_classifier.save_model('model.xgb')"
   ]
  },
  {
   "cell_type": "code",
   "execution_count": 26,
   "id": "8d91f1a2",
   "metadata": {},
   "outputs": [
    {
     "name": "stdout",
     "output_type": "stream",
     "text": [
      "XGBoost Accuracy: 0.74\n"
     ]
    }
   ],
   "source": [
    "# Evaluate the performance of the XGBoost classifier\n",
    "accuracy_xgb = accuracy_score(validation_df['type'], validation_predictions_xgb)\n",
    "print(f\"XGBoost Accuracy: {accuracy_xgb:.2f}\")"
   ]
  },
  {
   "cell_type": "code",
   "execution_count": 27,
   "id": "3e85e4f7",
   "metadata": {},
   "outputs": [
    {
     "name": "stdout",
     "output_type": "stream",
     "text": [
      "XGBoost Classification Report:\n",
      "              precision    recall  f1-score   support\n",
      "\n",
      "  Irrelevant       0.85      0.60      0.70       171\n",
      "    Negative       0.65      0.88      0.75       266\n",
      "     Neutral       0.78      0.65      0.71       285\n",
      "    Positive       0.76      0.78      0.77       277\n",
      "\n",
      "    accuracy                           0.74       999\n",
      "   macro avg       0.76      0.73      0.73       999\n",
      "weighted avg       0.75      0.74      0.74       999\n",
      "\n"
     ]
    }
   ],
   "source": [
    "# Display additional classification metrics for XGBoost\n",
    "print(\"XGBoost Classification Report:\")\n",
    "print(classification_report(validation_df['type'], validation_predictions_xgb))\n"
   ]
  },
  {
   "cell_type": "code",
   "execution_count": 28,
   "id": "9e3324f5",
   "metadata": {},
   "outputs": [
    {
     "name": "stdout",
     "output_type": "stream",
     "text": [
      "XGBoost Confusion Matrix:\n",
      "[[102  27  15  27]\n",
      " [  2 234  19  11]\n",
      " [ 10  61 185  29]\n",
      " [  6  36  19 216]]\n"
     ]
    }
   ],
   "source": [
    "# Display the confusion matrix for XGBoost\n",
    "print(\"XGBoost Confusion Matrix:\")\n",
    "print(confusion_matrix(validation_df['type'], validation_predictions_xgb))"
   ]
  },
  {
   "cell_type": "code",
   "execution_count": null,
   "id": "b58dec90",
   "metadata": {},
   "outputs": [],
   "source": []
  },
  {
   "cell_type": "code",
   "execution_count": 29,
   "id": "d7be459e",
   "metadata": {},
   "outputs": [
    {
     "name": "stdout",
     "output_type": "stream",
     "text": [
      "The predicted type for the input text is: Positive\n"
     ]
    }
   ],
   "source": [
    "# Assuming you have defined the preprocess_text function\n",
    "\n",
    "# Example user input\n",
    "user_input = \"Platinum is the best loot @Borderlands\"\n",
    "\n",
    "# Preprocess the user input\n",
    "user_input_processed = preprocess_text(user_input)\n",
    "\n",
    "# Vectorize the user input using TF-IDF\n",
    "user_input_tfidf = tfidf_vectorizer.transform([user_input_processed])\n",
    "\n",
    "# Predict the sentiment type using the trained XGBoost model\n",
    "prediction_encoded = xgb_classifier.predict(user_input_tfidf)[0]\n",
    "\n",
    "# Decode the predicted label back to the original class label\n",
    "predicted_type = label_encoder.inverse_transform([prediction_encoded])[0]\n",
    "\n",
    "print(f\"The predicted type for the input text is: {predicted_type}\")\n"
   ]
  },
  {
   "cell_type": "code",
   "execution_count": 30,
   "id": "91052468",
   "metadata": {},
   "outputs": [
    {
     "name": "stdout",
     "output_type": "stream",
     "text": [
      "The predicted type for the input text is: Negative\n"
     ]
    }
   ],
   "source": [
    "# Example user input\n",
    "user_input = \"This is shitty. I get that profit-wise it was less business expected prior to a huge problem.\"\n",
    "\n",
    "# Preprocess the user input\n",
    "user_input_processed = preprocess_text(user_input)\n",
    "\n",
    "# Vectorize the user input using TF-IDF\n",
    "user_input_tfidf = tfidf_vectorizer.transform([user_input_processed])\n",
    "\n",
    "# Predict the sentiment type using the trained XGBoost model\n",
    "prediction_encoded = xgb_classifier.predict(user_input_tfidf)[0]\n",
    "\n",
    "# Decode the predicted label back to the original class label\n",
    "predicted_type = label_encoder.inverse_transform([prediction_encoded])[0]\n",
    "\n",
    "print(f\"The predicted type for the input text is: {predicted_type}\")"
   ]
  },
  {
   "cell_type": "code",
   "execution_count": 33,
   "id": "bb48f09a",
   "metadata": {},
   "outputs": [
    {
     "name": "stderr",
     "output_type": "stream",
     "text": [
      "C:\\Users\\nisha\\anaconda3\\Lib\\site-packages\\xgboost\\core.py:160: UserWarning: [13:41:02] WARNING: C:\\buildkite-agent\\builds\\buildkite-windows-cpu-autoscaling-group-i-07f6e447eee219473-1\\xgboost\\xgboost-ci-windows\\src\\c_api\\c_api.cc:1240: Saving into deprecated binary model format, please consider using `json` or `ubj`. Model format will default to JSON in XGBoost 2.2 if not specified.\n",
      "  warnings.warn(smsg, UserWarning)\n"
     ]
    }
   ],
   "source": [
    "import joblib\n",
    "import xgboost as xgb\n",
    "from sklearn.feature_extraction.text import TfidfVectorizer\n",
    "\n",
    "# Load your trained XGBoost model\n",
    "xgb_classifier = xgb.XGBClassifier()\n",
    "xgb_classifier.load_model('model.xgb')\n",
    "\n",
    "# Load your trained TF-IDF vectorizer\n",
    "tfidf_vectorizer = joblib.load('vectorizer.pkl')\n",
    "\n",
    "# Save the TF-IDF vectorizer\n",
    "joblib.dump(tfidf_vectorizer, 'vectorizer.pkl')\n",
    "\n",
    "joblib.dump(label_encoder, 'label_encoder.pkl')\n",
    "# Save the XGBoost model\n",
    "xgb_classifier.save_model('model.xgb')\n"
   ]
  }
 ],
 "metadata": {
  "kernelspec": {
   "display_name": "Python 3 (ipykernel)",
   "language": "python",
   "name": "python3"
  },
  "language_info": {
   "codemirror_mode": {
    "name": "ipython",
    "version": 3
   },
   "file_extension": ".py",
   "mimetype": "text/x-python",
   "name": "python",
   "nbconvert_exporter": "python",
   "pygments_lexer": "ipython3",
   "version": "3.11.3"
  }
 },
 "nbformat": 4,
 "nbformat_minor": 5
}
